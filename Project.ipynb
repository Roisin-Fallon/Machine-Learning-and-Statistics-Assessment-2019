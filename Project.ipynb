{
 "cells": [
  {
   "cell_type": "markdown",
   "metadata": {},
   "source": [
    "<h1 align =\"center\">Boston Housing Prices</h1>\n",
    "\n",
    "<p align =\"center\"><img src=\"images/house.jpg\" alt=\"Boston House\" width=\"400\" height=\"400\" title=\"Tip\"/></p>\n",
    "\n",
    "## Machine Learning and Statistics Project 2019\n",
    "### Roisin Fallon"
   ]
  },
  {
   "cell_type": "markdown",
   "metadata": {},
   "source": [
    "## Table of Contents\n",
    "\n",
    "1. [Python Libraries](#lib)\n",
    "2. [Boston Housing Dataset](#boston)\n",
    "    * [Keys](#keys)\n",
    "    * [Feature Names](#feature)\n",
    "    * [DESC](#desc)\n",
    "5. [Conclusion](#con)\n",
    "6. [Bibliography](#bib)"
   ]
  },
  {
   "cell_type": "markdown",
   "metadata": {},
   "source": [
    "<a name=\"lib\"></a>\n",
    "## Python Libraries:\n",
    "\n",
    "<b> Anaconda on your device (version 3.7 +) </b>\n",
    "\n",
    " <a href=https://www.anaconda.com/distribution/> Download here </a>\n",
    "\n",
    "This contains porting for the library listed below. By downloading Anaconda it removes the need to import numerous libraries seperately.\n",
    " \n",
    " <b> Pandas </b> \n",
    " \n",
    " <a href=https://pandas.pydata.org/getpandas.html> Download here </a>\n",
    " \n",
    "This is a Python package designed to strucure information in rows and columns.  It is known for quick and easy data manipulation, aggregation, and visualization.  Python takes in data via a CSV, TSV file or SQL database and creates a Python object called a data frame. Brief Introducton of Panda outlined <a href=https://towardsdatascience.com/a-quick-introduction-to-the-pandas-python-library-f1b678f34673> here. </a>\n",
    "\n",
    "<b> NumPy </b> \n",
    "\n",
    "<a href=http://www.numpy.org/> Download here </a>\n",
    "\n",
    "This is a numerical library, performs many mathematical operations and handles i.  Brief introductiion outlined <a href=https://towardsdatascience.com/a-quick-introduction-to-the-numpy-library-6f61b7dee4db> here. </a>\n",
    "\n",
    "<b> Matplotlib </b> \n",
    "\n",
    "<a href=https://matplotlib.org/downloads.htmll> Download here </a>\n",
    "\n",
    "This is a plotting library, makes  2D plots  that helps in the visualisation of figures using one or multiple numeric variables. It can generate histograms, pie charts, time series, boxplot, violin plot, stack plot, stem plots and scatter plots.  It can be used in Python scripts, Jupyter notebook, and web application servers.  Brief Introduction outlined  <a href=https://towardsdatascience.com/data-visualization-using-matplotlib-16f1aae5ce70> here. </a>\n",
    "\n",
    "<b> Seaborn </b>\n",
    "\n",
    "This a satistical plotting library  which has more advanced data visualisation than matplotlib (both are plotting libraries). Seaborn produces nice visualizations eliminating much of the work necessary for producing similar visualizations with matplotlib. It gives a high-level interface to draw statistical graphs, making it easier to generate more complex visualizations. Brief introduction outlined <a href=https://towardsdatascience.com/data-visualization-using-seaborn-fc24db95a850> here. </a>\n",
    "\n",
    "<b> Scikit-learn </b>\n",
    "\n",
    "Simple and efficient tool that can be used for data miming or data analysis. It's library contains a lot of effiecient tools for machine learning and statistical modeling including classification, regression, clustering and dimensionality reduction. It comes as part of the anaconda package Brief introduction outlined <a href=https://scikit-learn.org/stable/install.html > here. </a>"
   ]
  },
  {
   "cell_type": "code",
   "execution_count": 26,
   "metadata": {},
   "outputs": [],
   "source": [
    "# Import the library for generating random variables\n",
    "import numpy as np\n",
    "\n",
    "# Import the library for handling data\n",
    "import pandas as pd\n",
    "\n",
    "# Visualisation library\n",
    "import seaborn as sns\n",
    "sns.set_style(\"whitegrid\")\n",
    "sns.set_context(\"poster\")\n",
    "\n",
    "# Import libraries for plotting\n",
    "import matplotlib.pyplot as plt\n",
    "\n",
    "# Import the libraries for T-test and ANOVA\n",
    "import scipy.stats as stats\n",
    "\n",
    "# inport statsmodels.\n",
    "import statsmodels.api as sm\n",
    "\n",
    "from sklearn.model_selection import train_test_split \n",
    "from sklearn.linear_model import LinearRegression\n",
    "from sklearn import metrics\n",
    "\n",
    "# To plot the graph embedded in the notebook\n",
    "%matplotlib inline\n",
    "\n",
    "# Standardise the size of the plots throughout this project\n",
    "plt.rcParams['figure.figsize'] = (12, 10)\n",
    "\n",
    "\n",
    "\n",
    "\n",
    "# import statsmodels.formula.api as smf\n",
    "# import scipy.linalg as sl\n",
    "# import sklearn.linear_model as lm"
   ]
  },
  {
   "cell_type": "markdown",
   "metadata": {},
   "source": [
    "<a name=\"boston\"></a>\n",
    "## Boston Housing Dataset "
   ]
  },
  {
   "cell_type": "code",
   "execution_count": 27,
   "metadata": {},
   "outputs": [],
   "source": [
    "# Import the Boston Housing dataset\n",
    "from sklearn.datasets import load_boston\n",
    "boston = load_boston()\n",
    "\n",
    "# Commented out the print statement here as it is difficult to read and interupt.\n",
    "# print(boston)  \n",
    "\n",
    "# Adapted from: https://github.com/Tsmith5151/Boston-Housing-Prices/blob/master/boston_housing.ipynb\n",
    "\n",
    "#Values\n",
    "price = boston.target                                   # Target values\n",
    "feature = boston.data                                   # Attributes values\n",
    "\n",
    "# Store in DataFrame\n",
    "attributes = boston.feature_names                       # Feature names\n",
    "data = pd.DataFrame(feature, columns = attributes)\n",
    "target = pd.DataFrame(price, columns =['MEDV'])\n",
    "df = pd.concat([data, target,], axis = 1)               # concat data/target"
   ]
  },
  {
   "cell_type": "markdown",
   "metadata": {},
   "source": [
    "<a name=\"keys\"></a>\n",
    "\n",
    "### Keys \n",
    "\n",
    "The Boston dataset is a dictinary which holds keys and values for keys. This gives a quick insight into what the boston housing price dataset contains. Fro this we can see that this dataset not only contains data but contains information about this data. \n",
    "https://www.engineeringbigdata.com/boston-dataset-scikit-learn-machine-learning-in-python/"
   ]
  },
  {
   "cell_type": "code",
   "execution_count": 28,
   "metadata": {},
   "outputs": [
    {
     "name": "stdout",
     "output_type": "stream",
     "text": [
      "Keys in the boston dataset: \n",
      " dict_keys(['data', 'target', 'feature_names', 'DESCR', 'filename'])\n"
     ]
    }
   ],
   "source": [
    "# What fields are in this dictionary\n",
    "\n",
    "print(\"Keys in the boston dataset: \\n\", boston.keys())"
   ]
  },
  {
   "cell_type": "markdown",
   "metadata": {},
   "source": [
    "<a name=\"feature\"></a>\n",
    "### Feature Names\n",
    "\n",
    "From the shape command we can see that the boston dataset consists fo 506 rows and 13 columns. This command will tell us what each of the 13 columns represent in the dataset. It also indicates that we are missing the MEDV variable which represents the median value of owner-occupied homes in $1000s."
   ]
  },
  {
   "cell_type": "code",
   "execution_count": 29,
   "metadata": {},
   "outputs": [
    {
     "name": "stdout",
     "output_type": "stream",
     "text": [
      "\n",
      "Column names of the Boston Dataset represent the following:\n",
      "\n",
      " ['CRIM' 'ZN' 'INDUS' 'CHAS' 'NOX' 'RM' 'AGE' 'DIS' 'RAD' 'TAX' 'PTRATIO'\n",
      " 'B' 'LSTAT']\n"
     ]
    }
   ],
   "source": [
    "# Determine what each of the columns in the dataset represent\n",
    "\n",
    "print(\"\\nColumn names of the Boston Dataset represent the following:\\n\\n\", boston.feature_names)   "
   ]
  },
  {
   "cell_type": "markdown",
   "metadata": {},
   "source": [
    "<a name=\"desc\"></a>\n",
    "### DESCR\n",
    "\n",
    "This will provide the dataset characteristics for the dataset."
   ]
  },
  {
   "cell_type": "code",
   "execution_count": 30,
   "metadata": {},
   "outputs": [
    {
     "name": "stdout",
     "output_type": "stream",
     "text": [
      ".. _boston_dataset:\n",
      "\n",
      "Boston house prices dataset\n",
      "---------------------------\n",
      "\n",
      "**Data Set Characteristics:**  \n",
      "\n",
      "    :Number of Instances: 506 \n",
      "\n",
      "    :Number of Attributes: 13 numeric/categorical predictive. Median Value (attribute 14) is usually the target.\n",
      "\n",
      "    :Attribute Information (in order):\n",
      "        - CRIM     per capita crime rate by town\n",
      "        - ZN       proportion of residential land zoned for lots over 25,000 sq.ft.\n",
      "        - INDUS    proportion of non-retail business acres per town\n",
      "        - CHAS     Charles River dummy variable (= 1 if tract bounds river; 0 otherwise)\n",
      "        - NOX      nitric oxides concentration (parts per 10 million)\n",
      "        - RM       average number of rooms per dwelling\n",
      "        - AGE      proportion of owner-occupied units built prior to 1940\n",
      "        - DIS      weighted distances to five Boston employment centres\n",
      "        - RAD      index of accessibility to radial highways\n",
      "        - TAX      full-value property-tax rate per $10,000\n",
      "        - PTRATIO  pupil-teacher ratio by town\n",
      "        - B        1000(Bk - 0.63)^2 where Bk is the proportion of blacks by town\n",
      "        - LSTAT    % lower status of the population\n",
      "        - MEDV     Median value of owner-occupied homes in $1000's\n",
      "\n",
      "    :Missing Attribute Values: None\n",
      "\n",
      "    :Creator: Harrison, D. and Rubinfeld, D.L.\n",
      "\n",
      "This is a copy of UCI ML housing dataset.\n",
      "https://archive.ics.uci.edu/ml/machine-learning-databases/housing/\n",
      "\n",
      "\n",
      "This dataset was taken from the StatLib library which is maintained at Carnegie Mellon University.\n",
      "\n",
      "The Boston house-price data of Harrison, D. and Rubinfeld, D.L. 'Hedonic\n",
      "prices and the demand for clean air', J. Environ. Economics & Management,\n",
      "vol.5, 81-102, 1978.   Used in Belsley, Kuh & Welsch, 'Regression diagnostics\n",
      "...', Wiley, 1980.   N.B. Various transformations are used in the table on\n",
      "pages 244-261 of the latter.\n",
      "\n",
      "The Boston house-price data has been used in many machine learning papers that address regression\n",
      "problems.   \n",
      "     \n",
      ".. topic:: References\n",
      "\n",
      "   - Belsley, Kuh & Welsch, 'Regression diagnostics: Identifying Influential Data and Sources of Collinearity', Wiley, 1980. 244-261.\n",
      "   - Quinlan,R. (1993). Combining Instance-Based and Model-Based Learning. In Proceedings on the Tenth International Conference of Machine Learning, 236-243, University of Massachusetts, Amherst. Morgan Kaufmann.\n",
      "\n",
      "\n",
      "\n",
      "**********************************************************************\n",
      "                            DESC Summary                              \n",
      "**********************************************************************\n",
      "Number of Houses                   :  506\n",
      "Number of Housing Features         :  13\n",
      "**********************************************************************\n",
      "\n"
     ]
    }
   ],
   "source": [
    "# Describes the dataset\n",
    "\n",
    "print(boston.DESCR)\n",
    "\n",
    "print(\"\\n\\n**********************************************************************\")\n",
    "print(\"                            DESC Summary                              \")\n",
    "print(\"**********************************************************************\")\n",
    "\n",
    "print(\"Number of Houses                   : \", data.shape[0])\n",
    "print(\"Number of Housing Features         : \", data.shape[1])\n",
    "print(\"**********************************************************************\\n\")"
   ]
  },
  {
   "cell_type": "markdown",
   "metadata": {},
   "source": [
    "<a name=\"head\"></a>\n",
    "### Head  of the dataset"
   ]
  },
  {
   "cell_type": "code",
   "execution_count": 31,
   "metadata": {},
   "outputs": [
    {
     "name": "stdout",
     "output_type": "stream",
     "text": [
      "\n",
      " Head of the Boston Dataset:\n"
     ]
    },
    {
     "data": {
      "text/html": [
       "<div>\n",
       "<style scoped>\n",
       "    .dataframe tbody tr th:only-of-type {\n",
       "        vertical-align: middle;\n",
       "    }\n",
       "\n",
       "    .dataframe tbody tr th {\n",
       "        vertical-align: top;\n",
       "    }\n",
       "\n",
       "    .dataframe thead th {\n",
       "        text-align: right;\n",
       "    }\n",
       "</style>\n",
       "<table border=\"1\" class=\"dataframe\">\n",
       "  <thead>\n",
       "    <tr style=\"text-align: right;\">\n",
       "      <th></th>\n",
       "      <th>CRIM</th>\n",
       "      <th>ZN</th>\n",
       "      <th>INDUS</th>\n",
       "      <th>CHAS</th>\n",
       "      <th>NOX</th>\n",
       "      <th>RM</th>\n",
       "      <th>AGE</th>\n",
       "      <th>DIS</th>\n",
       "      <th>RAD</th>\n",
       "      <th>TAX</th>\n",
       "      <th>PTRATIO</th>\n",
       "      <th>B</th>\n",
       "      <th>LSTAT</th>\n",
       "      <th>MEDV</th>\n",
       "    </tr>\n",
       "  </thead>\n",
       "  <tbody>\n",
       "    <tr>\n",
       "      <th>0</th>\n",
       "      <td>0.00632</td>\n",
       "      <td>18.0</td>\n",
       "      <td>2.31</td>\n",
       "      <td>0.0</td>\n",
       "      <td>0.538</td>\n",
       "      <td>6.575</td>\n",
       "      <td>65.2</td>\n",
       "      <td>4.0900</td>\n",
       "      <td>1.0</td>\n",
       "      <td>296.0</td>\n",
       "      <td>15.3</td>\n",
       "      <td>396.90</td>\n",
       "      <td>4.98</td>\n",
       "      <td>24.0</td>\n",
       "    </tr>\n",
       "    <tr>\n",
       "      <th>1</th>\n",
       "      <td>0.02731</td>\n",
       "      <td>0.0</td>\n",
       "      <td>7.07</td>\n",
       "      <td>0.0</td>\n",
       "      <td>0.469</td>\n",
       "      <td>6.421</td>\n",
       "      <td>78.9</td>\n",
       "      <td>4.9671</td>\n",
       "      <td>2.0</td>\n",
       "      <td>242.0</td>\n",
       "      <td>17.8</td>\n",
       "      <td>396.90</td>\n",
       "      <td>9.14</td>\n",
       "      <td>21.6</td>\n",
       "    </tr>\n",
       "    <tr>\n",
       "      <th>2</th>\n",
       "      <td>0.02729</td>\n",
       "      <td>0.0</td>\n",
       "      <td>7.07</td>\n",
       "      <td>0.0</td>\n",
       "      <td>0.469</td>\n",
       "      <td>7.185</td>\n",
       "      <td>61.1</td>\n",
       "      <td>4.9671</td>\n",
       "      <td>2.0</td>\n",
       "      <td>242.0</td>\n",
       "      <td>17.8</td>\n",
       "      <td>392.83</td>\n",
       "      <td>4.03</td>\n",
       "      <td>34.7</td>\n",
       "    </tr>\n",
       "    <tr>\n",
       "      <th>3</th>\n",
       "      <td>0.03237</td>\n",
       "      <td>0.0</td>\n",
       "      <td>2.18</td>\n",
       "      <td>0.0</td>\n",
       "      <td>0.458</td>\n",
       "      <td>6.998</td>\n",
       "      <td>45.8</td>\n",
       "      <td>6.0622</td>\n",
       "      <td>3.0</td>\n",
       "      <td>222.0</td>\n",
       "      <td>18.7</td>\n",
       "      <td>394.63</td>\n",
       "      <td>2.94</td>\n",
       "      <td>33.4</td>\n",
       "    </tr>\n",
       "    <tr>\n",
       "      <th>4</th>\n",
       "      <td>0.06905</td>\n",
       "      <td>0.0</td>\n",
       "      <td>2.18</td>\n",
       "      <td>0.0</td>\n",
       "      <td>0.458</td>\n",
       "      <td>7.147</td>\n",
       "      <td>54.2</td>\n",
       "      <td>6.0622</td>\n",
       "      <td>3.0</td>\n",
       "      <td>222.0</td>\n",
       "      <td>18.7</td>\n",
       "      <td>396.90</td>\n",
       "      <td>5.33</td>\n",
       "      <td>36.2</td>\n",
       "    </tr>\n",
       "  </tbody>\n",
       "</table>\n",
       "</div>"
      ],
      "text/plain": [
       "      CRIM    ZN  INDUS  CHAS    NOX     RM   AGE     DIS  RAD    TAX  \\\n",
       "0  0.00632  18.0   2.31   0.0  0.538  6.575  65.2  4.0900  1.0  296.0   \n",
       "1  0.02731   0.0   7.07   0.0  0.469  6.421  78.9  4.9671  2.0  242.0   \n",
       "2  0.02729   0.0   7.07   0.0  0.469  7.185  61.1  4.9671  2.0  242.0   \n",
       "3  0.03237   0.0   2.18   0.0  0.458  6.998  45.8  6.0622  3.0  222.0   \n",
       "4  0.06905   0.0   2.18   0.0  0.458  7.147  54.2  6.0622  3.0  222.0   \n",
       "\n",
       "   PTRATIO       B  LSTAT  MEDV  \n",
       "0     15.3  396.90   4.98  24.0  \n",
       "1     17.8  396.90   9.14  21.6  \n",
       "2     17.8  392.83   4.03  34.7  \n",
       "3     18.7  394.63   2.94  33.4  \n",
       "4     18.7  396.90   5.33  36.2  "
      ]
     },
     "execution_count": 31,
     "metadata": {},
     "output_type": "execute_result"
    }
   ],
   "source": [
    "# Default is the first 5 rows \n",
    "print(\"\\n Head of the Boston Dataset:\")\n",
    "df.head()"
   ]
  },
  {
   "cell_type": "markdown",
   "metadata": {},
   "source": [
    "<a name=\"tail\"></a>\n",
    "### Tail of the dataset"
   ]
  },
  {
   "cell_type": "code",
   "execution_count": 32,
   "metadata": {},
   "outputs": [
    {
     "name": "stdout",
     "output_type": "stream",
     "text": [
      "\n",
      " Tail of the Boston Dataset: \n"
     ]
    },
    {
     "data": {
      "text/html": [
       "<div>\n",
       "<style scoped>\n",
       "    .dataframe tbody tr th:only-of-type {\n",
       "        vertical-align: middle;\n",
       "    }\n",
       "\n",
       "    .dataframe tbody tr th {\n",
       "        vertical-align: top;\n",
       "    }\n",
       "\n",
       "    .dataframe thead th {\n",
       "        text-align: right;\n",
       "    }\n",
       "</style>\n",
       "<table border=\"1\" class=\"dataframe\">\n",
       "  <thead>\n",
       "    <tr style=\"text-align: right;\">\n",
       "      <th></th>\n",
       "      <th>CRIM</th>\n",
       "      <th>ZN</th>\n",
       "      <th>INDUS</th>\n",
       "      <th>CHAS</th>\n",
       "      <th>NOX</th>\n",
       "      <th>RM</th>\n",
       "      <th>AGE</th>\n",
       "      <th>DIS</th>\n",
       "      <th>RAD</th>\n",
       "      <th>TAX</th>\n",
       "      <th>PTRATIO</th>\n",
       "      <th>B</th>\n",
       "      <th>LSTAT</th>\n",
       "      <th>MEDV</th>\n",
       "    </tr>\n",
       "  </thead>\n",
       "  <tbody>\n",
       "    <tr>\n",
       "      <th>501</th>\n",
       "      <td>0.06263</td>\n",
       "      <td>0.0</td>\n",
       "      <td>11.93</td>\n",
       "      <td>0.0</td>\n",
       "      <td>0.573</td>\n",
       "      <td>6.593</td>\n",
       "      <td>69.1</td>\n",
       "      <td>2.4786</td>\n",
       "      <td>1.0</td>\n",
       "      <td>273.0</td>\n",
       "      <td>21.0</td>\n",
       "      <td>391.99</td>\n",
       "      <td>9.67</td>\n",
       "      <td>22.4</td>\n",
       "    </tr>\n",
       "    <tr>\n",
       "      <th>502</th>\n",
       "      <td>0.04527</td>\n",
       "      <td>0.0</td>\n",
       "      <td>11.93</td>\n",
       "      <td>0.0</td>\n",
       "      <td>0.573</td>\n",
       "      <td>6.120</td>\n",
       "      <td>76.7</td>\n",
       "      <td>2.2875</td>\n",
       "      <td>1.0</td>\n",
       "      <td>273.0</td>\n",
       "      <td>21.0</td>\n",
       "      <td>396.90</td>\n",
       "      <td>9.08</td>\n",
       "      <td>20.6</td>\n",
       "    </tr>\n",
       "    <tr>\n",
       "      <th>503</th>\n",
       "      <td>0.06076</td>\n",
       "      <td>0.0</td>\n",
       "      <td>11.93</td>\n",
       "      <td>0.0</td>\n",
       "      <td>0.573</td>\n",
       "      <td>6.976</td>\n",
       "      <td>91.0</td>\n",
       "      <td>2.1675</td>\n",
       "      <td>1.0</td>\n",
       "      <td>273.0</td>\n",
       "      <td>21.0</td>\n",
       "      <td>396.90</td>\n",
       "      <td>5.64</td>\n",
       "      <td>23.9</td>\n",
       "    </tr>\n",
       "    <tr>\n",
       "      <th>504</th>\n",
       "      <td>0.10959</td>\n",
       "      <td>0.0</td>\n",
       "      <td>11.93</td>\n",
       "      <td>0.0</td>\n",
       "      <td>0.573</td>\n",
       "      <td>6.794</td>\n",
       "      <td>89.3</td>\n",
       "      <td>2.3889</td>\n",
       "      <td>1.0</td>\n",
       "      <td>273.0</td>\n",
       "      <td>21.0</td>\n",
       "      <td>393.45</td>\n",
       "      <td>6.48</td>\n",
       "      <td>22.0</td>\n",
       "    </tr>\n",
       "    <tr>\n",
       "      <th>505</th>\n",
       "      <td>0.04741</td>\n",
       "      <td>0.0</td>\n",
       "      <td>11.93</td>\n",
       "      <td>0.0</td>\n",
       "      <td>0.573</td>\n",
       "      <td>6.030</td>\n",
       "      <td>80.8</td>\n",
       "      <td>2.5050</td>\n",
       "      <td>1.0</td>\n",
       "      <td>273.0</td>\n",
       "      <td>21.0</td>\n",
       "      <td>396.90</td>\n",
       "      <td>7.88</td>\n",
       "      <td>11.9</td>\n",
       "    </tr>\n",
       "  </tbody>\n",
       "</table>\n",
       "</div>"
      ],
      "text/plain": [
       "        CRIM   ZN  INDUS  CHAS    NOX     RM   AGE     DIS  RAD    TAX  \\\n",
       "501  0.06263  0.0  11.93   0.0  0.573  6.593  69.1  2.4786  1.0  273.0   \n",
       "502  0.04527  0.0  11.93   0.0  0.573  6.120  76.7  2.2875  1.0  273.0   \n",
       "503  0.06076  0.0  11.93   0.0  0.573  6.976  91.0  2.1675  1.0  273.0   \n",
       "504  0.10959  0.0  11.93   0.0  0.573  6.794  89.3  2.3889  1.0  273.0   \n",
       "505  0.04741  0.0  11.93   0.0  0.573  6.030  80.8  2.5050  1.0  273.0   \n",
       "\n",
       "     PTRATIO       B  LSTAT  MEDV  \n",
       "501     21.0  391.99   9.67  22.4  \n",
       "502     21.0  396.90   9.08  20.6  \n",
       "503     21.0  396.90   5.64  23.9  \n",
       "504     21.0  393.45   6.48  22.0  \n",
       "505     21.0  396.90   7.88  11.9  "
      ]
     },
     "execution_count": 32,
     "metadata": {},
     "output_type": "execute_result"
    }
   ],
   "source": [
    "# Print the last 5 rows\n",
    "print(\"\\n Tail of the Boston Dataset: \")\n",
    "df.tail()"
   ]
  },
  {
   "cell_type": "markdown",
   "metadata": {},
   "source": [
    "<a name=\"stats\"></a>\n",
    "##  EDA and Statistical Summary"
   ]
  },
  {
   "cell_type": "code",
   "execution_count": 33,
   "metadata": {},
   "outputs": [
    {
     "name": "stdout",
     "output_type": "stream",
     "text": [
      "Statistics for the Boston Housing dataset:\n",
      "\n",
      "Minimum Housing Price          : $5,000\n",
      "Maximum Housing Price          : $50,000\n",
      "Mean Housing Price             : $22,533\n",
      "Median Housing Price           : $21,200\n",
      "Standard deviation of prices   : $9,188\n",
      "First quartile of prices       : $17,025\n",
      "Second quartile of prices      : $25,000\n",
      "Interquartile (IQR) of prices  : $7,975\n"
     ]
    }
   ],
   "source": [
    "# The following code performs several statistical calculations on the dataset.\n",
    "\n",
    "# TMinimum price of the data\n",
    "minimum_price = np.min(price)\n",
    "# Alternative using pandas\n",
    "# minimum_price = prices.min()\n",
    "\n",
    "# Maximum price of the data \n",
    "maximum_price = np.max(price)\n",
    "# Alternative using pandas\n",
    "# maximum_price = prices.max()\n",
    "\n",
    "# Mean price of the data\n",
    "mean_price = np.mean(price)\n",
    "# Alternative using pandas\n",
    "# mean_price = prices.mean()\n",
    "\n",
    "# Median price of the data - 50% i.e. the halfway marker of the dataset\n",
    "median_price = np.median(price)\n",
    "# Alternative using pandas\n",
    "# median_price = prices.median()\n",
    "\n",
    "# Standard deviation of prices of the data\n",
    "std_price = np.std(price)\n",
    "# Alternative using pandas \n",
    "# std_price = prices.std(ddof=0)\n",
    "\n",
    "# There are other statistics you can calculate too like quartiles\n",
    "first_quartile = np.percentile(price, 25)\n",
    "third_quartile = np.percentile(price, 75)     #  75% of the data has values less than this number        \n",
    "inter_quartile = third_quartile - first_quartile\n",
    "\n",
    "# Show the calculated statistics * 1000 as the values in the boston dataaset are in the '000s'\n",
    "print(\"Statistics for the Boston Housing dataset:\\n\")\n",
    "print(\"Minimum Housing Price          : ${:,.0f}\".format(minimum_price*1000))\n",
    "print(\"Maximum Housing Price          : ${:,.0f}\".format(maximum_price*1000))\n",
    "print(\"Mean Housing Price             : ${:,.0f}\".format(mean_price*1000))\n",
    "print(\"Median Housing Price           : ${:,.0f}\".format(median_price*1000))\n",
    "print(\"Standard deviation of prices   : ${:,.0f}\".format(std_price*1000))\n",
    "print(\"First quartile of prices       : ${:,.0f}\".format(first_quartile*1000))\n",
    "print(\"Second quartile of prices      : ${:,.0f}\".format(third_quartile*1000))\n",
    "print(\"Interquartile (IQR) of prices  : ${:,.0f}\".format(inter_quartile*1000))"
   ]
  },
  {
   "cell_type": "code",
   "execution_count": 51,
   "metadata": {},
   "outputs": [
    {
     "data": {
      "image/png": "[encoded data removed]",
      "text/plain": [
       "<Figure size 864x720 with 1 Axes>"
      ]
     },
     "metadata": {
      "needs_background": "light"
     },
     "output_type": "display_data"
    }
   ],
   "source": [
    "# Quick Visualisation of the house price in the dataset\n",
    "\n",
    "plt.hist(boston.target,bins=50) \n",
    "plt.xlabel(\"\\n Price in $1000s\", fontweight=\"bold\", fontsize=\"16\", color=\"g\")                                         # Label of the x-axis\n",
    "plt.ylabel(\"Number of Houses \\n\", fontweight=\"bold\", fontsize=\"16\", color=\"g\")                                                # Label of the y-axis\n",
    "plt.title(\"\\n Boston House Pricesin the dataset \\n\", fontweight=\"bold\", fontsize=\"20\", color=\"r\")                           # Label title of distplot\n",
    "plt.show()"
   ]
  },
  {
   "cell_type": "code",
   "execution_count": 34,
   "metadata": {},
   "outputs": [
    {
     "name": "stdout",
     "output_type": "stream",
     "text": [
      "\n",
      " Statistical Summary of the Boston Housing Dataset: \n",
      "\n"
     ]
    },
    {
     "data": {
      "text/html": [
       "<div>\n",
       "<style scoped>\n",
       "    .dataframe tbody tr th:only-of-type {\n",
       "        vertical-align: middle;\n",
       "    }\n",
       "\n",
       "    .dataframe tbody tr th {\n",
       "        vertical-align: top;\n",
       "    }\n",
       "\n",
       "    .dataframe thead th {\n",
       "        text-align: right;\n",
       "    }\n",
       "</style>\n",
       "<table border=\"1\" class=\"dataframe\">\n",
       "  <thead>\n",
       "    <tr style=\"text-align: right;\">\n",
       "      <th></th>\n",
       "      <th>count</th>\n",
       "      <th>mean</th>\n",
       "      <th>std</th>\n",
       "      <th>min</th>\n",
       "      <th>25%</th>\n",
       "      <th>50%</th>\n",
       "      <th>75%</th>\n",
       "      <th>max</th>\n",
       "    </tr>\n",
       "  </thead>\n",
       "  <tbody>\n",
       "    <tr>\n",
       "      <th>CRIM</th>\n",
       "      <td>506.0</td>\n",
       "      <td>3.61</td>\n",
       "      <td>8.60</td>\n",
       "      <td>0.01</td>\n",
       "      <td>0.08</td>\n",
       "      <td>0.26</td>\n",
       "      <td>3.68</td>\n",
       "      <td>88.98</td>\n",
       "    </tr>\n",
       "    <tr>\n",
       "      <th>ZN</th>\n",
       "      <td>506.0</td>\n",
       "      <td>11.36</td>\n",
       "      <td>23.32</td>\n",
       "      <td>0.00</td>\n",
       "      <td>0.00</td>\n",
       "      <td>0.00</td>\n",
       "      <td>12.50</td>\n",
       "      <td>100.00</td>\n",
       "    </tr>\n",
       "    <tr>\n",
       "      <th>INDUS</th>\n",
       "      <td>506.0</td>\n",
       "      <td>11.14</td>\n",
       "      <td>6.86</td>\n",
       "      <td>0.46</td>\n",
       "      <td>5.19</td>\n",
       "      <td>9.69</td>\n",
       "      <td>18.10</td>\n",
       "      <td>27.74</td>\n",
       "    </tr>\n",
       "    <tr>\n",
       "      <th>CHAS</th>\n",
       "      <td>506.0</td>\n",
       "      <td>0.07</td>\n",
       "      <td>0.25</td>\n",
       "      <td>0.00</td>\n",
       "      <td>0.00</td>\n",
       "      <td>0.00</td>\n",
       "      <td>0.00</td>\n",
       "      <td>1.00</td>\n",
       "    </tr>\n",
       "    <tr>\n",
       "      <th>NOX</th>\n",
       "      <td>506.0</td>\n",
       "      <td>0.55</td>\n",
       "      <td>0.12</td>\n",
       "      <td>0.38</td>\n",
       "      <td>0.45</td>\n",
       "      <td>0.54</td>\n",
       "      <td>0.62</td>\n",
       "      <td>0.87</td>\n",
       "    </tr>\n",
       "    <tr>\n",
       "      <th>RM</th>\n",
       "      <td>506.0</td>\n",
       "      <td>6.28</td>\n",
       "      <td>0.70</td>\n",
       "      <td>3.56</td>\n",
       "      <td>5.89</td>\n",
       "      <td>6.21</td>\n",
       "      <td>6.62</td>\n",
       "      <td>8.78</td>\n",
       "    </tr>\n",
       "    <tr>\n",
       "      <th>AGE</th>\n",
       "      <td>506.0</td>\n",
       "      <td>68.57</td>\n",
       "      <td>28.15</td>\n",
       "      <td>2.90</td>\n",
       "      <td>45.02</td>\n",
       "      <td>77.50</td>\n",
       "      <td>94.07</td>\n",
       "      <td>100.00</td>\n",
       "    </tr>\n",
       "    <tr>\n",
       "      <th>DIS</th>\n",
       "      <td>506.0</td>\n",
       "      <td>3.80</td>\n",
       "      <td>2.11</td>\n",
       "      <td>1.13</td>\n",
       "      <td>2.10</td>\n",
       "      <td>3.21</td>\n",
       "      <td>5.19</td>\n",
       "      <td>12.13</td>\n",
       "    </tr>\n",
       "    <tr>\n",
       "      <th>RAD</th>\n",
       "      <td>506.0</td>\n",
       "      <td>9.55</td>\n",
       "      <td>8.71</td>\n",
       "      <td>1.00</td>\n",
       "      <td>4.00</td>\n",
       "      <td>5.00</td>\n",
       "      <td>24.00</td>\n",
       "      <td>24.00</td>\n",
       "    </tr>\n",
       "    <tr>\n",
       "      <th>TAX</th>\n",
       "      <td>506.0</td>\n",
       "      <td>408.24</td>\n",
       "      <td>168.54</td>\n",
       "      <td>187.00</td>\n",
       "      <td>279.00</td>\n",
       "      <td>330.00</td>\n",
       "      <td>666.00</td>\n",
       "      <td>711.00</td>\n",
       "    </tr>\n",
       "    <tr>\n",
       "      <th>PTRATIO</th>\n",
       "      <td>506.0</td>\n",
       "      <td>18.46</td>\n",
       "      <td>2.16</td>\n",
       "      <td>12.60</td>\n",
       "      <td>17.40</td>\n",
       "      <td>19.05</td>\n",
       "      <td>20.20</td>\n",
       "      <td>22.00</td>\n",
       "    </tr>\n",
       "    <tr>\n",
       "      <th>B</th>\n",
       "      <td>506.0</td>\n",
       "      <td>356.67</td>\n",
       "      <td>91.29</td>\n",
       "      <td>0.32</td>\n",
       "      <td>375.38</td>\n",
       "      <td>391.44</td>\n",
       "      <td>396.22</td>\n",
       "      <td>396.90</td>\n",
       "    </tr>\n",
       "    <tr>\n",
       "      <th>LSTAT</th>\n",
       "      <td>506.0</td>\n",
       "      <td>12.65</td>\n",
       "      <td>7.14</td>\n",
       "      <td>1.73</td>\n",
       "      <td>6.95</td>\n",
       "      <td>11.36</td>\n",
       "      <td>16.96</td>\n",
       "      <td>37.97</td>\n",
       "    </tr>\n",
       "    <tr>\n",
       "      <th>MEDV</th>\n",
       "      <td>506.0</td>\n",
       "      <td>22.53</td>\n",
       "      <td>9.20</td>\n",
       "      <td>5.00</td>\n",
       "      <td>17.02</td>\n",
       "      <td>21.20</td>\n",
       "      <td>25.00</td>\n",
       "      <td>50.00</td>\n",
       "    </tr>\n",
       "  </tbody>\n",
       "</table>\n",
       "</div>"
      ],
      "text/plain": [
       "         count    mean     std     min     25%     50%     75%     max\n",
       "CRIM     506.0    3.61    8.60    0.01    0.08    0.26    3.68   88.98\n",
       "ZN       506.0   11.36   23.32    0.00    0.00    0.00   12.50  100.00\n",
       "INDUS    506.0   11.14    6.86    0.46    5.19    9.69   18.10   27.74\n",
       "CHAS     506.0    0.07    0.25    0.00    0.00    0.00    0.00    1.00\n",
       "NOX      506.0    0.55    0.12    0.38    0.45    0.54    0.62    0.87\n",
       "RM       506.0    6.28    0.70    3.56    5.89    6.21    6.62    8.78\n",
       "AGE      506.0   68.57   28.15    2.90   45.02   77.50   94.07  100.00\n",
       "DIS      506.0    3.80    2.11    1.13    2.10    3.21    5.19   12.13\n",
       "RAD      506.0    9.55    8.71    1.00    4.00    5.00   24.00   24.00\n",
       "TAX      506.0  408.24  168.54  187.00  279.00  330.00  666.00  711.00\n",
       "PTRATIO  506.0   18.46    2.16   12.60   17.40   19.05   20.20   22.00\n",
       "B        506.0  356.67   91.29    0.32  375.38  391.44  396.22  396.90\n",
       "LSTAT    506.0   12.65    7.14    1.73    6.95   11.36   16.96   37.97\n",
       "MEDV     506.0   22.53    9.20    5.00   17.02   21.20   25.00   50.00"
      ]
     },
     "execution_count": 34,
     "metadata": {},
     "output_type": "execute_result"
    }
   ],
   "source": [
    "print(\"\\n Statistical Summary of the Boston Housing Dataset: \\n\")\n",
    "df.describe(include='all').T.round(2)"
   ]
  },
  {
   "cell_type": "markdown",
   "metadata": {},
   "source": [
    "<a name=\"info\"></a>\n",
    "### Info \n",
    "\n",
    "Provides information on the Boston dataset including names of columns, total number of rows and columns, data type of each column, range index and memory usage."
   ]
  },
  {
   "cell_type": "code",
   "execution_count": 35,
   "metadata": {},
   "outputs": [
    {
     "name": "stdout",
     "output_type": "stream",
     "text": [
      "Information on the Boston Housing Dataset: \n",
      "\n",
      "<class 'pandas.core.frame.DataFrame'>\n",
      "RangeIndex: 506 entries, 0 to 505\n",
      "Data columns (total 14 columns):\n",
      "CRIM       506 non-null float64\n",
      "ZN         506 non-null float64\n",
      "INDUS      506 non-null float64\n",
      "CHAS       506 non-null float64\n",
      "NOX        506 non-null float64\n",
      "RM         506 non-null float64\n",
      "AGE        506 non-null float64\n",
      "DIS        506 non-null float64\n",
      "RAD        506 non-null float64\n",
      "TAX        506 non-null float64\n",
      "PTRATIO    506 non-null float64\n",
      "B          506 non-null float64\n",
      "LSTAT      506 non-null float64\n",
      "MEDV       506 non-null float64\n",
      "dtypes: float64(14)\n",
      "memory usage: 55.4 KB\n"
     ]
    }
   ],
   "source": [
    "print(\"Information on the Boston Housing Dataset: \\n\")\n",
    "df.info()"
   ]
  },
  {
   "cell_type": "markdown",
   "metadata": {},
   "source": [
    "<a name=\"clean\"></a>\n",
    "## Cleaning of the data\n",
    "\n",
    "It is important to understand that NaN or missing values can take a number of different forms e.g. 0 or  written as \"missing\". It can be noted when we ran the head and tail of the dataset there are a number of 0's for ZN and CHAS. Thus, we can replace the 0's with NaN to calculate how much data we are missing. [1]"
   ]
  },
  {
   "cell_type": "code",
   "execution_count": 36,
   "metadata": {},
   "outputs": [],
   "source": [
    "# Copy the dataset for the Descriptive and Interference section\n",
    "df1 = df.copy(deep=True)"
   ]
  },
  {
   "cell_type": "code",
   "execution_count": 37,
   "metadata": {},
   "outputs": [],
   "source": [
    "# Adapted from: https://medium.com/swlh/implementation-of-linear-regression-9fd58cb4656c\n",
    "\n",
    "df1.ZN.replace(0, np.nan, inplace = True)\n",
    "df1.CHAS.replace(0, np.nan, inplace = True)"
   ]
  },
  {
   "cell_type": "code",
   "execution_count": 38,
   "metadata": {},
   "outputs": [
    {
     "name": "stdout",
     "output_type": "stream",
     "text": [
      "<class 'pandas.core.frame.DataFrame'>\n",
      "RangeIndex: 506 entries, 0 to 505\n",
      "Data columns (total 14 columns):\n",
      "CRIM       506 non-null float64\n",
      "ZN         134 non-null float64\n",
      "INDUS      506 non-null float64\n",
      "CHAS       35 non-null float64\n",
      "NOX        506 non-null float64\n",
      "RM         506 non-null float64\n",
      "AGE        506 non-null float64\n",
      "DIS        506 non-null float64\n",
      "RAD        506 non-null float64\n",
      "TAX        506 non-null float64\n",
      "PTRATIO    506 non-null float64\n",
      "B          506 non-null float64\n",
      "LSTAT      506 non-null float64\n",
      "MEDV       506 non-null float64\n",
      "dtypes: float64(14)\n",
      "memory usage: 55.4 KB\n"
     ]
    }
   ],
   "source": [
    "# Rerun the .info() method to determine the details of the missing values in the dataset following the replacement of the 0 values with NaN\n",
    "    \n",
    "df1.info()"
   ]
  },
  {
   "cell_type": "markdown",
   "metadata": {},
   "source": [
    "#### Calculate the percent of missing values\n",
    "<<<<<<<<<<<<<<<<<<<<<<<<<<<<<<<<<<<<<<<<<<<<<<<<<<<<<<<<<<<<<<<<<<<<<<<<<<<<<<<<<<<<<<<<<<<<<<<\n",
    "<<<<<<<<<<<<<<<<<<<<<<<<<<<<<<<<<<<<<<<<<<<<<<<<<<<<<<<<<<<<<<<<<<<<<<<<<<<<<<<<<<<<<<<<<<\n",
    "<<<<<<<<<<<<<<<<<<<<<<<<<<<<<<<<<<<<<<<<<<<<<<<<<<<<<<<<<<<<<<<<<<<<<<<<<<<<<<<<<<<<<<<<<<<<<<<<<<<\n",
    "Generally, if there is 20–25% missing values we can impute them with different ways like mean or median. But if it’s more than that, it’s better to remove those features otherwise they can affect our result. As we can see below both “ZN” and “CHAS” are missing more than 70% data, so we will remove both these features. [1]"
   ]
  },
  {
   "cell_type": "code",
   "execution_count": 39,
   "metadata": {},
   "outputs": [
    {
     "data": {
      "text/plain": [
       "CRIM        0.000000\n",
       "ZN         73.517787\n",
       "INDUS       0.000000\n",
       "CHAS       93.083004\n",
       "NOX         0.000000\n",
       "RM          0.000000\n",
       "AGE         0.000000\n",
       "DIS         0.000000\n",
       "RAD         0.000000\n",
       "TAX         0.000000\n",
       "PTRATIO     0.000000\n",
       "B           0.000000\n",
       "LSTAT       0.000000\n",
       "MEDV        0.000000\n",
       "dtype: float64"
      ]
     },
     "execution_count": 39,
     "metadata": {},
     "output_type": "execute_result"
    }
   ],
   "source": [
    "df1.isnull().sum() / len(data) * 100"
   ]
  },
  {
   "cell_type": "markdown",
   "metadata": {},
   "source": [
    "#### Dropping the columns "
   ]
  },
  {
   "cell_type": "code",
   "execution_count": 40,
   "metadata": {},
   "outputs": [],
   "source": [
    "df1 = df1.drop(['ZN', 'CHAS'], axis = 1)"
   ]
  },
  {
   "cell_type": "code",
   "execution_count": 41,
   "metadata": {},
   "outputs": [
    {
     "name": "stdout",
     "output_type": "stream",
     "text": [
      "<class 'pandas.core.frame.DataFrame'>\n",
      "RangeIndex: 506 entries, 0 to 505\n",
      "Data columns (total 12 columns):\n",
      "CRIM       506 non-null float64\n",
      "INDUS      506 non-null float64\n",
      "NOX        506 non-null float64\n",
      "RM         506 non-null float64\n",
      "AGE        506 non-null float64\n",
      "DIS        506 non-null float64\n",
      "RAD        506 non-null float64\n",
      "TAX        506 non-null float64\n",
      "PTRATIO    506 non-null float64\n",
      "B          506 non-null float64\n",
      "LSTAT      506 non-null float64\n",
      "MEDV       506 non-null float64\n",
      "dtypes: float64(12)\n",
      "memory usage: 47.5 KB\n"
     ]
    }
   ],
   "source": [
    "# Here we\n",
    "df1.info()"
   ]
  },
  {
   "cell_type": "code",
   "execution_count": null,
   "metadata": {},
   "outputs": [],
   "source": [
    "target = "
   ]
  },
  {
   "cell_type": "code",
   "execution_count": null,
   "metadata": {},
   "outputs": [],
   "source": []
  },
  {
   "cell_type": "code",
   "execution_count": null,
   "metadata": {},
   "outputs": [],
   "source": []
  },
  {
   "cell_type": "code",
   "execution_count": null,
   "metadata": {},
   "outputs": [],
   "source": []
  },
  {
   "cell_type": "code",
   "execution_count": null,
   "metadata": {},
   "outputs": [],
   "source": []
  },
  {
   "cell_type": "code",
   "execution_count": null,
   "metadata": {},
   "outputs": [],
   "source": []
  },
  {
   "cell_type": "markdown",
   "metadata": {},
   "source": [
    "## Correlation"
   ]
  },
  {
   "cell_type": "code",
   "execution_count": 42,
   "metadata": {},
   "outputs": [
    {
     "data": {
      "text/plain": [
       "<matplotlib.axes._subplots.AxesSubplot at 0x204cb65f0f0>"
      ]
     },
     "execution_count": 42,
     "metadata": {},
     "output_type": "execute_result"
    },
    {
     "data": {
      "image/png": "[encoded data removed]",
      "text/plain": [
       "<Figure size 864x720 with 2 Axes>"
      ]
     },
     "metadata": {
      "needs_background": "light"
     },
     "output_type": "display_data"
    }
   ],
   "source": [
    "# Adapted from: https://seaborn.pydata.org/examples/many_pairwise_correlations.html\n",
    "\n",
    "corr = df1.corr()\n",
    "\n",
    "# Create a mask for the upper left triangular portion \n",
    "mask = np.zeros_like(corr, dtype = np.bool)\n",
    "mask[np.triu_indices_from(mask)] = True\n",
    "\n",
    "# Plot the heatmap features\n",
    "sns.heatmap(corr, mask=mask, annot = True, annot_kws={\"size\": 15})"
   ]
  },
  {
   "cell_type": "code",
   "execution_count": null,
   "metadata": {},
   "outputs": [],
   "source": []
  },
  {
   "cell_type": "code",
   "execution_count": null,
   "metadata": {},
   "outputs": [],
   "source": []
  },
  {
   "cell_type": "markdown",
   "metadata": {},
   "source": [
    "## Inferential Statistics"
   ]
  },
  {
   "cell_type": "code",
   "execution_count": null,
   "metadata": {},
   "outputs": [],
   "source": []
  },
  {
   "cell_type": "code",
   "execution_count": null,
   "metadata": {},
   "outputs": [],
   "source": []
  },
  {
   "cell_type": "code",
   "execution_count": null,
   "metadata": {},
   "outputs": [],
   "source": []
  },
  {
   "cell_type": "code",
   "execution_count": null,
   "metadata": {},
   "outputs": [],
   "source": []
  },
  {
   "cell_type": "markdown",
   "metadata": {},
   "source": [
    "# Section 3: \n",
    "\n",
    "There are 13 features. Here we will remove the columns that will not be used to predict the target variable.\n",
    "\n",
    "* 16 data points have an 'MEDV' value of 50.0. These data points likely contain missing or censored values and have been removed.\n",
    "* 1 data point has an 'RM' value of 8.78. This data point can be considered an outlier and has been removed."
   ]
  },
  {
   "cell_type": "markdown",
   "metadata": {},
   "source": [
    "<a name=\"con\"></a>\n",
    "## Conclusion"
   ]
  },
  {
   "cell_type": "code",
   "execution_count": null,
   "metadata": {},
   "outputs": [],
   "source": []
  },
  {
   "cell_type": "markdown",
   "metadata": {},
   "source": [
    "<a name=\"bib\"></a>\n",
    "## Bibliography\n",
    "\n",
    "### Code Adapted from the following\n",
    "\n",
    "1. https://github.com/Tsmith5151/Boston-Housing-Prices/blob/master/boston_housing.ipynb\n",
    "2. https://medium.com/swlh/implementation-of-linear-regression-9fd58cb4656c\n",
    "3. https://seaborn.pydata.org/examples/many_pairwise_correlations.html\n",
    "\n",
    "### Code for text\n",
    "1. https://medium.com/swlh/implementation-of-linear-regression-9fd58cb4656c"
   ]
  },
  {
   "cell_type": "code",
   "execution_count": null,
   "metadata": {},
   "outputs": [],
   "source": []
  }
 ],
 "metadata": {
  "kernelspec": {
   "display_name": "Python 3",
   "language": "python",
   "name": "python3"
  },
  "language_info": {
   "codemirror_mode": {
    "name": "ipython",
    "version": 3
   },
   "file_extension": ".py",
   "mimetype": "text/x-python",
   "name": "python",
   "nbconvert_exporter": "python",
   "pygments_lexer": "ipython3",
   "version": "3.7.1"
  }
 },
 "nbformat": 4,
 "nbformat_minor": 2
}
